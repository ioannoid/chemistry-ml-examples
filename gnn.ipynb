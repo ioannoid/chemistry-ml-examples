{
 "cells": [
  {
   "cell_type": "code",
   "execution_count": 2,
   "metadata": {},
   "outputs": [],
   "source": [
    "import numpy as np\n",
    "\n",
    "from rdkit.Chem import AllChem as chem\n",
    "from rdkit.Chem import rdmolops as ops\n",
    "\n",
    "from torch_geometric.data import Data\n",
    "\n",
    "import torch\n",
    "import torch.nn.functional as F\n",
    "\n",
    "# Calculate atom features for GNN input\n",
    "def get_atom_features(atom : chem.Atom):\n",
    "    atom_num = F.one_hot(\n",
    "        torch.tensor(atom.GetAtomicNum()), num_classes=60)\n",
    "    valence = F.one_hot(\n",
    "        torch.tensor(atom.GetTotalValence()), num_classes=8)\n",
    "    aromaticity = torch.tensor([int(atom.GetIsAromatic())])\n",
    "    mol_weight = torch.tensor([atom.GetMass()])\n",
    "    \n",
    "    return torch.cat((atom_num, valence, aromaticity, mol_weight))\n",
    "\n",
    "# Calculate bond features for GNN input\n",
    "def get_bond_features(bond : chem.Bond):\n",
    "    match bond.GetBondType():\n",
    "        case chem.BondType.SINGLE:\n",
    "            bond_type = 0\n",
    "        case chem.BondType.DOUBLE:\n",
    "            bond_type = 1\n",
    "        case chem.BondType.TRIPLE:\n",
    "            bond_type = 2\n",
    "        case _:\n",
    "            bond_type = 3\n",
    "    bond_type = F.one_hot(torch.tensor(bond_type), num_classes=4)\n",
    "    aromaticity = torch.tensor([int(bond.GetIsAromatic())])\n",
    "    \n",
    "    return torch.cat((bond_type, aromaticity))\n",
    "    "
   ]
  },
  {
   "cell_type": "code",
   "execution_count": 3,
   "metadata": {},
   "outputs": [],
   "source": [
    "# Create data set of featurized molecular graphs from SMILES input \n",
    "def create_data_set(smiles_list, labels):\n",
    "    data_list = []\n",
    "    \n",
    "    for (smiles, label) in zip(smiles_list, labels):\n",
    "        mol = chem.MolFromSmiles(smiles)\n",
    "        n_nodes = mol.GetNumAtoms()\n",
    "        n_edges = 2*mol.GetNumBonds()\n",
    "        features_test = \"O=O\"\n",
    "        features_test_mol = chem.MolFromSmiles(features_test)\n",
    "        n_node_features = len(\n",
    "            get_atom_features(features_test_mol.GetAtomWithIdx(0)))\n",
    "        n_bond_features = len(\n",
    "            get_bond_features(features_test_mol.GetBondWithIdx(0)))\n",
    "        \n",
    "        x = torch.tensor(\n",
    "            np.zeros((n_nodes, n_node_features)), dtype = torch.float)\n",
    "        \n",
    "        for atom in mol.GetAtoms():\n",
    "            x[atom.GetIdx(), :] = get_atom_features(atom)\n",
    "            \n",
    "        (rows, cols) = np.nonzero(ops.GetAdjacencyMatrix(mol))\n",
    "        torch_rows = torch.tensor(rows.astype(np.int64)).to(torch.long)\n",
    "        torch_cols = torch.tensor(cols.astype(np.int64)).to(torch.long)\n",
    "        e = torch.stack((torch_rows, torch_cols))\n",
    "        \n",
    "        ef = torch.tensor(\n",
    "            np.zeros((n_edges, n_bond_features)), dtype = torch.float)\n",
    "        \n",
    "        for (k, (i, j)) in enumerate(zip(rows, cols)):\n",
    "            ef[k] = get_bond_features(\n",
    "                mol.GetBondBetweenAtoms(int(i), int(j)))\n",
    "        \n",
    "        label_tensor = torch.tensor(np.array([label]), dtype = torch.float)\n",
    "        \n",
    "        data_list.append(\n",
    "            Data(x = x, edge_index = e, edge_attr = ef, y = label_tensor))\n",
    "        \n",
    "    return data_list"
   ]
  },
  {
   "cell_type": "code",
   "execution_count": 7,
   "metadata": {},
   "outputs": [],
   "source": [
    "import pandas as pd\n",
    "\n",
    "# Load dataset\n",
    "lipo = pd.read_csv('Lipophilicity.csv', index_col=0)\n",
    "data_set = create_data_set(lipo['smiles'], lipo['exp'])"
   ]
  },
  {
   "cell_type": "code",
   "execution_count": 116,
   "metadata": {},
   "outputs": [
    {
     "data": {
      "text/plain": [
       "GCN(-1, 50, num_layers=1)"
      ]
     },
     "execution_count": 116,
     "metadata": {},
     "output_type": "execute_result"
    }
   ],
   "source": [
    "from model import GCN\n",
    "\n",
    "# Create model from model.py\n",
    "net = GCN(\n",
    "    in_channels=-1, hidden_channels=50, \n",
    "    num_layers = 1, jk='last', dropout=0.5)\n",
    "net"
   ]
  },
  {
   "cell_type": "code",
   "execution_count": 117,
   "metadata": {},
   "outputs": [
    {
     "name": "stderr",
     "output_type": "stream",
     "text": [
      "100%|██████████| 4200/4200 [00:11<00:00, 354.07it/s]\n"
     ]
    },
    {
     "name": "stdout",
     "output_type": "stream",
     "text": [
      "Epoch: 0,               Training loss: 12750.503911493233\n"
     ]
    },
    {
     "name": "stderr",
     "output_type": "stream",
     "text": [
      "100%|██████████| 4200/4200 [00:17<00:00, 234.59it/s]\n"
     ]
    },
    {
     "name": "stdout",
     "output_type": "stream",
     "text": [
      "Epoch: 1,               Training loss: 4.73064059163662\n"
     ]
    },
    {
     "name": "stderr",
     "output_type": "stream",
     "text": [
      "100%|██████████| 4200/4200 [00:17<00:00, 238.28it/s]\n"
     ]
    },
    {
     "name": "stdout",
     "output_type": "stream",
     "text": [
      "Epoch: 2,               Training loss: 3.1521114207325827\n"
     ]
    },
    {
     "name": "stderr",
     "output_type": "stream",
     "text": [
      "100%|██████████| 4200/4200 [00:11<00:00, 353.99it/s]\n"
     ]
    },
    {
     "name": "stdout",
     "output_type": "stream",
     "text": [
      "Epoch: 3,               Training loss: 1.9232074729229238\n"
     ]
    },
    {
     "name": "stderr",
     "output_type": "stream",
     "text": [
      "100%|██████████| 4200/4200 [00:12<00:00, 326.80it/s]"
     ]
    },
    {
     "name": "stdout",
     "output_type": "stream",
     "text": [
      "Epoch: 4,               Training loss: 1.770746563666239\n"
     ]
    },
    {
     "name": "stderr",
     "output_type": "stream",
     "text": [
      "\n"
     ]
    }
   ],
   "source": [
    "from torch.nn import MSELoss\n",
    "from tqdm import tqdm\n",
    "\n",
    "# Establish loss function and training optimizer\n",
    "loss = MSELoss()\n",
    "optimizer = torch.optim.Adam(params=net.parameters(), lr=0.001)\n",
    "\n",
    "# Set model to training mode\n",
    "net.train()\n",
    "\n",
    "# Run training loop\n",
    "for epoch in range(5):\n",
    "    train_loss = []\n",
    "    \n",
    "    for data in tqdm(data_set):\n",
    "        # Predict from input\n",
    "        preds = net(data.x, data.edge_index)\n",
    "        \n",
    "        # Calculate loss between prediction and target output\n",
    "        l = loss(preds, data.y.reshape(()))\n",
    "        \n",
    "        # Save training loss\n",
    "        train_loss += [float(l)]\n",
    "        \n",
    "        # Calculate gradients of model parameters and adjust \n",
    "        optimizer.zero_grad()\n",
    "        l.backward()\n",
    "        optimizer.step()\n",
    "    \n",
    "    # Print average training loss for each epoch\n",
    "    print(f\"Epoch: {epoch}, \\\n",
    "              Training loss: {np.mean(train_loss)}\")"
   ]
  },
  {
   "cell_type": "code",
   "execution_count": 125,
   "metadata": {},
   "outputs": [
    {
     "name": "stdout",
     "output_type": "stream",
     "text": [
      "Predicted lipophilicity: 2.746176242828369, Actual: 3.5399999618530273\n",
      "Predicted lipophilicity: 2.221467971801758, Actual: -1.1799999475479126\n",
      "Predicted lipophilicity: 2.0041699409484863, Actual: 3.690000057220459\n",
      "Predicted lipophilicity: 2.3940212726593018, Actual: 3.369999885559082\n",
      "Predicted lipophilicity: 2.70646595954895, Actual: 3.0999999046325684\n",
      "Predicted lipophilicity: 2.602780342102051, Actual: 3.140000104904175\n",
      "Predicted lipophilicity: 2.3352832794189453, Actual: -0.7200000286102295\n",
      "Predicted lipophilicity: 2.8879833221435547, Actual: 0.3400000035762787\n",
      "Predicted lipophilicity: 1.7532542943954468, Actual: 3.049999952316284\n",
      "Predicted lipophilicity: 2.097764015197754, Actual: 2.25\n",
      "Predicted lipophilicity: 2.2723095417022705, Actual: 1.5099999904632568\n",
      "Predicted lipophilicity: 3.271427631378174, Actual: 2.609999895095825\n",
      "Predicted lipophilicity: 0.5100199580192566, Actual: -0.07999999821186066\n",
      "Predicted lipophilicity: 2.611186981201172, Actual: 1.9500000476837158\n",
      "Predicted lipophilicity: 3.1531741619110107, Actual: 1.340000033378601\n",
      "Predicted lipophilicity: 2.2800135612487793, Actual: 3.200000047683716\n",
      "Predicted lipophilicity: 2.1509969234466553, Actual: 1.600000023841858\n",
      "Predicted lipophilicity: 2.0332632064819336, Actual: 3.7699999809265137\n",
      "Predicted lipophilicity: 3.1439926624298096, Actual: 3.1500000953674316\n",
      "Predicted lipophilicity: 3.1673991680145264, Actual: 0.3199999928474426\n"
     ]
    }
   ],
   "source": [
    "# Print predicted and actual lipophilicity for 20 molecules from training dataset\n",
    "net.eval()\n",
    "for i in range(0, 20):\n",
    "    print('Predicted lipophilicity:',\n",
    "        f'{net(data_set[i].x, data_set[i].edge_index)},',\n",
    "        f'Actual: {data_set[i].y[0]}')\n"
   ]
  },
  {
   "cell_type": "code",
   "execution_count": 126,
   "metadata": {},
   "outputs": [
    {
     "name": "stdout",
     "output_type": "stream",
     "text": [
      "Predicted lipophilicity: 1.552609920501709, Actual: 0.8700000047683716\n"
     ]
    }
   ],
   "source": [
    "# Predict lipophilicty for unseen molecule\n",
    "morphine = create_data_set(\n",
    "    ['CN1CCC23C4C1CC5=C2C(=C(C=C5)O)OC3C(C=C4)O'], [0.87])[0]\n",
    "print('Predicted lipophilicity:',\n",
    "    f'{net(morphine.x, morphine.edge_index)},',\n",
    "    f'Actual: {morphine.y[0]}')"
   ]
  }
 ],
 "metadata": {
  "kernelspec": {
   "display_name": "ml",
   "language": "python",
   "name": "python3"
  },
  "language_info": {
   "codemirror_mode": {
    "name": "ipython",
    "version": 3
   },
   "file_extension": ".py",
   "mimetype": "text/x-python",
   "name": "python",
   "nbconvert_exporter": "python",
   "pygments_lexer": "ipython3",
   "version": "3.12.4"
  }
 },
 "nbformat": 4,
 "nbformat_minor": 2
}
