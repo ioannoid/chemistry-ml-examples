{
 "cells": [
  {
   "cell_type": "code",
   "execution_count": 6,
   "metadata": {},
   "outputs": [],
   "source": [
    "from torch import nn\n",
    "\n",
    "class NeuralNetwork(nn.Module):\n",
    "    def __init__(self):\n",
    "        super().__init__()\n",
    "        self.linear_relu_stack = nn.Sequential(\n",
    "            nn.Linear(30, 10),\n",
    "            nn.ReLU(),\n",
    "            nn.Linear(10, 1),\n",
    "            nn.Sigmoid()\n",
    "        )\n",
    "\n",
    "    def forward(self, x):\n",
    "        return self.linear_relu_stack(x)"
   ]
  },
  {
   "cell_type": "code",
   "execution_count": 28,
   "metadata": {},
   "outputs": [
    {
     "data": {
      "text/plain": [
       "NeuralNetwork(\n",
       "  (linear_relu_stack): Sequential(\n",
       "    (0): Linear(in_features=30, out_features=10, bias=True)\n",
       "    (1): ReLU()\n",
       "    (2): Linear(in_features=10, out_features=1, bias=True)\n",
       "    (3): Sigmoid()\n",
       "  )\n",
       ")"
      ]
     },
     "execution_count": 28,
     "metadata": {},
     "output_type": "execute_result"
    }
   ],
   "source": [
    "model = NeuralNetwork()\n",
    "model"
   ]
  },
  {
   "cell_type": "code",
   "execution_count": 29,
   "metadata": {},
   "outputs": [
    {
     "name": "stderr",
     "output_type": "stream",
     "text": [
      "  0%|          | 0/11 [00:00<?, ?batch/s]"
     ]
    },
    {
     "name": "stderr",
     "output_type": "stream",
     "text": [
      "100%|██████████| 11/11 [00:00<00:00, 276.46batch/s]"
     ]
    },
    {
     "name": "stdout",
     "output_type": "stream",
     "text": [
      "Epoch: 0,               Training accuracy: 58.899394219571896\n"
     ]
    },
    {
     "name": "stderr",
     "output_type": "stream",
     "text": [
      "\n"
     ]
    }
   ],
   "source": [
    "import torch\n",
    "import numpy as np\n",
    "from tqdm import tqdm\n",
    "from torch.utils.data import DataLoader, TensorDataset\n",
    "from sklearn.datasets import load_breast_cancer\n",
    "from sklearn.model_selection import train_test_split\n",
    "\n",
    "X, y = load_breast_cancer(return_X_y=True)\n",
    "X = torch.from_numpy(X).float()\n",
    "y = torch.from_numpy(y).int()\n",
    "\n",
    "train_X, test_X, train_y, test_y = \\\n",
    "    train_test_split(X, y, test_size=0.10, shuffle=True)\n",
    "\n",
    "train_data = TensorDataset(train_X, train_y)\n",
    "train_loader = DataLoader(train_data, batch_size=50)\n",
    "\n",
    "test_data = TensorDataset(test_X, test_y)\n",
    "test_loader = DataLoader(test_data, batch_size=len(test_data))\n",
    "\n",
    "loss = nn.MSELoss()\n",
    "optimizer = torch.optim.Adam(params=model.parameters(), lr=0.01)\n",
    "\n",
    "for epoch in range(1):\n",
    "    train_accuracies = []\n",
    "    for X, y in tqdm(train_loader, unit=\"batch\"):\n",
    "        preds = model(X)\n",
    "        l = loss(preds, y.float())\n",
    "        optimizer.zero_grad()\n",
    "        l.backward()\n",
    "        optimizer.step()\n",
    "        train_accuracies += [100 * torch.mean(\n",
    "            ((preds > 0.5).int() == y).float()).item()]\n",
    "    \n",
    "    print(f\"Epoch: {epoch}, \\\n",
    "              Training accuracy: {np.mean(train_accuracies)}\")"
   ]
  },
  {
   "cell_type": "code",
   "execution_count": 1,
   "metadata": {},
   "outputs": [
    {
     "ename": "NameError",
     "evalue": "name 'test_loader' is not defined",
     "output_type": "error",
     "traceback": [
      "\u001b[0;31m---------------------------------------------------------------------------\u001b[0m",
      "\u001b[0;31mNameError\u001b[0m                                 Traceback (most recent call last)",
      "\u001b[1;32m/home/ioannis/Coding/Python/ml/pytorch_ex.ipynb Cell 4\u001b[0m line \u001b[0;36m1\n\u001b[0;32m----> <a href='vscode-notebook-cell:/home/ioannis/Coding/Python/ml/pytorch_ex.ipynb#W3sZmlsZQ%3D%3D?line=0'>1</a>\u001b[0m \u001b[39mfor\u001b[39;00m X, y \u001b[39min\u001b[39;00m test_loader:\n\u001b[1;32m      <a href='vscode-notebook-cell:/home/ioannis/Coding/Python/ml/pytorch_ex.ipynb#W3sZmlsZQ%3D%3D?line=1'>2</a>\u001b[0m     preds \u001b[39m=\u001b[39m model\u001b[39m.\u001b[39mforward(X)\n\u001b[1;32m      <a href='vscode-notebook-cell:/home/ioannis/Coding/Python/ml/pytorch_ex.ipynb#W3sZmlsZQ%3D%3D?line=2'>3</a>\u001b[0m     test_accuracy \u001b[39m=\u001b[39m \u001b[39m100\u001b[39m \u001b[39m*\u001b[39m torch\u001b[39m.\u001b[39mmean(\n\u001b[1;32m      <a href='vscode-notebook-cell:/home/ioannis/Coding/Python/ml/pytorch_ex.ipynb#W3sZmlsZQ%3D%3D?line=3'>4</a>\u001b[0m             ((preds \u001b[39m>\u001b[39m \u001b[39m0.5\u001b[39m)\u001b[39m.\u001b[39mint() \u001b[39m==\u001b[39m y)\u001b[39m.\u001b[39mfloat())\u001b[39m.\u001b[39mitem()\n",
      "\u001b[0;31mNameError\u001b[0m: name 'test_loader' is not defined"
     ]
    }
   ],
   "source": [
    "for X, y in test_loader:\n",
    "    preds = model(X)\n",
    "    test_accuracy = 100 * torch.mean(\n",
    "            ((preds > 0.5).int() == y).float()).item()\n",
    "    print(f\"Test accuracy: {test_accuracy}\")"
   ]
  }
 ],
 "metadata": {
  "kernelspec": {
   "display_name": "ml",
   "language": "python",
   "name": "python3"
  },
  "language_info": {
   "codemirror_mode": {
    "name": "ipython",
    "version": 3
   },
   "file_extension": ".py",
   "mimetype": "text/x-python",
   "name": "python",
   "nbconvert_exporter": "python",
   "pygments_lexer": "ipython3",
   "version": "3.12.4"
  }
 },
 "nbformat": 4,
 "nbformat_minor": 2
}
