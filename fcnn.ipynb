{
 "cells": [
  {
   "cell_type": "code",
   "execution_count": 3,
   "metadata": {},
   "outputs": [],
   "source": [
    "import torch\n",
    "import torch.nn as nn\n",
    "import torch.nn.functional as F\n",
    "\n",
    "# Program model architecture. __init__() and forward() are required functions\n",
    "class Net(nn.Module):\n",
    "\n",
    "    def __init__(self):\n",
    "        super(Net, self).__init__()\n",
    "\n",
    "        self.flatten = nn.Flatten()\n",
    "        self.fc1 = nn.Linear(784, 15)\n",
    "        self.fc2 = nn.Linear(15, 15)\n",
    "        self.fc3 = nn.Linear(15, 10)\n",
    "\n",
    "    def forward(self, input):\n",
    "        flat = self.flatten(input)\n",
    "        h1 = F.relu(self.fc1(flat))\n",
    "        h2 = F.relu(self.fc2(h1))\n",
    "        output = F.softmax(self.fc3(h2), dim=1)\n",
    "        return output"
   ]
  },
  {
   "cell_type": "code",
   "execution_count": 4,
   "metadata": {},
   "outputs": [
    {
     "name": "stdout",
     "output_type": "stream",
     "text": [
      "Downloading http://yann.lecun.com/exdb/mnist/train-images-idx3-ubyte.gz\n",
      "Failed to download (trying next):\n",
      "HTTP Error 403: Forbidden\n",
      "\n",
      "Downloading https://ossci-datasets.s3.amazonaws.com/mnist/train-images-idx3-ubyte.gz\n",
      "Downloading https://ossci-datasets.s3.amazonaws.com/mnist/train-images-idx3-ubyte.gz to datasets/MNIST/raw/train-images-idx3-ubyte.gz\n"
     ]
    },
    {
     "name": "stderr",
     "output_type": "stream",
     "text": [
      "100%|██████████| 9912422/9912422 [00:00<00:00, 13366487.63it/s]\n"
     ]
    },
    {
     "name": "stdout",
     "output_type": "stream",
     "text": [
      "Extracting datasets/MNIST/raw/train-images-idx3-ubyte.gz to datasets/MNIST/raw\n",
      "\n",
      "Downloading http://yann.lecun.com/exdb/mnist/train-labels-idx1-ubyte.gz\n",
      "Failed to download (trying next):\n",
      "HTTP Error 403: Forbidden\n",
      "\n",
      "Downloading https://ossci-datasets.s3.amazonaws.com/mnist/train-labels-idx1-ubyte.gz\n",
      "Downloading https://ossci-datasets.s3.amazonaws.com/mnist/train-labels-idx1-ubyte.gz to datasets/MNIST/raw/train-labels-idx1-ubyte.gz\n"
     ]
    },
    {
     "name": "stderr",
     "output_type": "stream",
     "text": [
      "100%|██████████| 28881/28881 [00:00<00:00, 13984725.68it/s]"
     ]
    },
    {
     "name": "stdout",
     "output_type": "stream",
     "text": [
      "Extracting datasets/MNIST/raw/train-labels-idx1-ubyte.gz to datasets/MNIST/raw\n",
      "\n",
      "Downloading http://yann.lecun.com/exdb/mnist/t10k-images-idx3-ubyte.gz\n",
      "Failed to download (trying next):\n",
      "HTTP Error 403: Forbidden\n",
      "\n",
      "Downloading https://ossci-datasets.s3.amazonaws.com/mnist/t10k-images-idx3-ubyte.gz\n",
      "Downloading https://ossci-datasets.s3.amazonaws.com/mnist/t10k-images-idx3-ubyte.gz to datasets/MNIST/raw/t10k-images-idx3-ubyte.gz\n"
     ]
    },
    {
     "name": "stderr",
     "output_type": "stream",
     "text": [
      "\n",
      "100%|██████████| 1648877/1648877 [00:00<00:00, 10787858.94it/s]\n"
     ]
    },
    {
     "name": "stdout",
     "output_type": "stream",
     "text": [
      "Extracting datasets/MNIST/raw/t10k-images-idx3-ubyte.gz to datasets/MNIST/raw\n",
      "\n",
      "Downloading http://yann.lecun.com/exdb/mnist/t10k-labels-idx1-ubyte.gz\n",
      "Failed to download (trying next):\n",
      "HTTP Error 403: Forbidden\n",
      "\n",
      "Downloading https://ossci-datasets.s3.amazonaws.com/mnist/t10k-labels-idx1-ubyte.gz\n",
      "Downloading https://ossci-datasets.s3.amazonaws.com/mnist/t10k-labels-idx1-ubyte.gz to datasets/MNIST/raw/t10k-labels-idx1-ubyte.gz\n"
     ]
    },
    {
     "name": "stderr",
     "output_type": "stream",
     "text": [
      "100%|██████████| 4542/4542 [00:00<00:00, 3526569.56it/s]"
     ]
    },
    {
     "name": "stdout",
     "output_type": "stream",
     "text": [
      "Extracting datasets/MNIST/raw/t10k-labels-idx1-ubyte.gz to datasets/MNIST/raw\n",
      "\n"
     ]
    },
    {
     "name": "stderr",
     "output_type": "stream",
     "text": [
      "\n"
     ]
    }
   ],
   "source": [
    "from torchvision.datasets import MNIST\n",
    "\n",
    "# Download training and testing datasets\n",
    "train_mnist = MNIST(root=\"datasets/\", train=True, download=True)\n",
    "test_mnist = MNIST(root=\"datasets/\", download=True)"
   ]
  },
  {
   "cell_type": "code",
   "execution_count": 5,
   "metadata": {},
   "outputs": [
    {
     "data": {
      "text/plain": [
       "Net(\n",
       "  (flatten): Flatten(start_dim=1, end_dim=-1)\n",
       "  (fc1): Linear(in_features=784, out_features=15, bias=True)\n",
       "  (fc2): Linear(in_features=15, out_features=15, bias=True)\n",
       "  (fc3): Linear(in_features=15, out_features=10, bias=True)\n",
       ")"
      ]
     },
     "execution_count": 5,
     "metadata": {},
     "output_type": "execute_result"
    }
   ],
   "source": [
    "# Create model\n",
    "net = Net()\n",
    "net"
   ]
  },
  {
   "cell_type": "code",
   "execution_count": 6,
   "metadata": {},
   "outputs": [
    {
     "name": "stderr",
     "output_type": "stream",
     "text": [
      "100%|██████████| 1080/1080 [00:04<00:00, 248.13batch/s]\n"
     ]
    },
    {
     "name": "stdout",
     "output_type": "stream",
     "text": [
      "Epoch: 0,               Training accuracy: 49.02407417246313,               Validation accuracy: 62.08333373069763\n"
     ]
    },
    {
     "name": "stderr",
     "output_type": "stream",
     "text": [
      "100%|██████████| 1080/1080 [00:03<00:00, 302.45batch/s]\n"
     ]
    },
    {
     "name": "stdout",
     "output_type": "stream",
     "text": [
      "Epoch: 1,               Training accuracy: 64.06851908674946,               Validation accuracy: 65.86666703224182\n"
     ]
    },
    {
     "name": "stderr",
     "output_type": "stream",
     "text": [
      "100%|██████████| 1080/1080 [00:03<00:00, 299.11batch/s]\n"
     ]
    },
    {
     "name": "stdout",
     "output_type": "stream",
     "text": [
      "Epoch: 2,               Training accuracy: 66.02777831532337,               Validation accuracy: 66.8666660785675\n"
     ]
    },
    {
     "name": "stderr",
     "output_type": "stream",
     "text": [
      "100%|██████████| 1080/1080 [00:03<00:00, 293.63batch/s]\n"
     ]
    },
    {
     "name": "stdout",
     "output_type": "stream",
     "text": [
      "Epoch: 3,               Training accuracy: 67.4314819469496,               Validation accuracy: 75.3499984741211\n"
     ]
    },
    {
     "name": "stderr",
     "output_type": "stream",
     "text": [
      "100%|██████████| 1080/1080 [00:04<00:00, 265.07batch/s]\n"
     ]
    },
    {
     "name": "stdout",
     "output_type": "stream",
     "text": [
      "Epoch: 4,               Training accuracy: 75.76851843131914,               Validation accuracy: 76.48333311080933\n"
     ]
    },
    {
     "name": "stderr",
     "output_type": "stream",
     "text": [
      "100%|██████████| 1080/1080 [00:04<00:00, 223.28batch/s]\n"
     ]
    },
    {
     "name": "stdout",
     "output_type": "stream",
     "text": [
      "Epoch: 5,               Training accuracy: 76.54814798522878,               Validation accuracy: 76.93333625793457\n"
     ]
    },
    {
     "name": "stderr",
     "output_type": "stream",
     "text": [
      "100%|██████████| 1080/1080 [00:04<00:00, 216.15batch/s]\n"
     ]
    },
    {
     "name": "stdout",
     "output_type": "stream",
     "text": [
      "Epoch: 6,               Training accuracy: 76.86481456513758,               Validation accuracy: 77.03333497047424\n"
     ]
    },
    {
     "name": "stderr",
     "output_type": "stream",
     "text": [
      "100%|██████████| 1080/1080 [00:05<00:00, 209.31batch/s]\n"
     ]
    },
    {
     "name": "stdout",
     "output_type": "stream",
     "text": [
      "Epoch: 7,               Training accuracy: 77.09444420205222,               Validation accuracy: 77.24999785423279\n"
     ]
    },
    {
     "name": "stderr",
     "output_type": "stream",
     "text": [
      "100%|██████████| 1080/1080 [00:04<00:00, 227.62batch/s]\n"
     ]
    },
    {
     "name": "stdout",
     "output_type": "stream",
     "text": [
      "Epoch: 8,               Training accuracy: 77.28888861007161,               Validation accuracy: 77.28333473205566\n"
     ]
    },
    {
     "name": "stderr",
     "output_type": "stream",
     "text": [
      "100%|██████████| 1080/1080 [00:04<00:00, 242.59batch/s]\n"
     ]
    },
    {
     "name": "stdout",
     "output_type": "stream",
     "text": [
      "Epoch: 9,               Training accuracy: 77.4814811790431,               Validation accuracy: 77.38333344459534\n"
     ]
    }
   ],
   "source": [
    "import numpy as np\n",
    "from tqdm import tqdm\n",
    "from torch.utils.data import DataLoader, TensorDataset\n",
    "from sklearn.model_selection import train_test_split\n",
    "\n",
    "# Split training and validation datasets. One hot encode labels as 10-dimensional vectors\n",
    "train_X, val_X, train_Y, val_Y = train_test_split(\n",
    "    train_mnist.data.reshape((train_mnist.data.shape[0], 1, 28, 28)).float(),\n",
    "    F.one_hot(train_mnist.targets, 10).float(), shuffle=True, test_size=0.10)\n",
    "\n",
    "# Training data loader\n",
    "train_data = TensorDataset(train_X, train_Y)\n",
    "train_loader = DataLoader(train_data, batch_size=50)\n",
    "\n",
    "# Validation data loader\n",
    "val_data = TensorDataset(val_X, val_Y)\n",
    "val_loader = DataLoader(val_data, batch_size=len(val_data))\n",
    "\n",
    "# Establish loss function and training optimizer\n",
    "loss = nn.CrossEntropyLoss()\n",
    "optimizer = torch.optim.Adam(params=net.parameters(), lr=0.0001)\n",
    "\n",
    "# Run training loop\n",
    "for epoch in range(10):\n",
    "    train_accuracies = []\n",
    "    for X, y in tqdm(train_loader, unit=\"batch\"):\n",
    "        # Predict from input\n",
    "        preds = net(X)\n",
    "        pred_labels = torch.argmax(preds, axis=1)\n",
    "\n",
    "        # Calculate loss between prediction and target output\n",
    "        l = loss(preds, y)\n",
    "        \n",
    "        # Calculate gradients of model parameters and adjust \n",
    "        optimizer.zero_grad()\n",
    "        l.backward()\n",
    "        optimizer.step()\n",
    "        \n",
    "        # Save training accuracy of batch\n",
    "        train_accuracies += [100 * torch.mean(\n",
    "            (pred_labels == torch.argmax(y, axis=1)).float()).item()]\n",
    "        \n",
    "    # Calculate validation accuracy and print metrics at end of each epoch\n",
    "    for X, y in val_loader:\n",
    "        preds = net(X)\n",
    "        pred_labels = torch.argmax(preds, axis=1)\n",
    "        val_accuracy = 100 * torch.mean(\n",
    "            (pred_labels == torch.argmax(y, axis=1)).float()).item()\n",
    "        print(f\"Epoch: {epoch}, \\\n",
    "              Training accuracy: {np.mean(train_accuracies)}, \\\n",
    "              Validation accuracy: {val_accuracy}\")"
   ]
  },
  {
   "cell_type": "code",
   "execution_count": 14,
   "metadata": {},
   "outputs": [
    {
     "data": {
      "text/plain": [
       "<matplotlib.image.AxesImage at 0x7633b9c6e7b0>"
      ]
     },
     "execution_count": 14,
     "metadata": {},
     "output_type": "execute_result"
    },
    {
     "data": {
      "image/png": "[encoded data removed]",
      "text/plain": [
       "<Figure size 640x480 with 1 Axes>"
      ]
     },
     "metadata": {},
     "output_type": "display_data"
    }
   ],
   "source": [
    "%matplotlib inline\n",
    "import matplotlib.pyplot as plt \n",
    "\n",
    "# 406th testing image\n",
    "plt.imshow(test_mnist.data[409], cmap='gray')"
   ]
  },
  {
   "cell_type": "code",
   "execution_count": 15,
   "metadata": {},
   "outputs": [
    {
     "name": "stdout",
     "output_type": "stream",
     "text": [
      "Prediction: 9\n"
     ]
    }
   ],
   "source": [
    "# Model prediction for above image\n",
    "print(f\"Prediction: {torch.argmax(net(torch.reshape(test_mnist.data[409].float(),\n",
    "                               (1, 1, 28, 28)))).item()}\")"
   ]
  },
  {
   "cell_type": "code",
   "execution_count": 13,
   "metadata": {},
   "outputs": [
    {
     "name": "stdout",
     "output_type": "stream",
     "text": [
      "Test accuracy: 77.45166420936584\n"
     ]
    }
   ],
   "source": [
    "# Testing data loader\n",
    "test_data = TensorDataset(\n",
    "    test_mnist.data.reshape((test_mnist.data.shape[0], 1, 28, 28)).float(),\n",
    "    F.one_hot(test_mnist.targets, 10).float())\n",
    "test_loader = DataLoader(test_data, batch_size=len(test_data))\n",
    "\n",
    "# Calculate accuracy for entire testing dataset\n",
    "for X, y in test_loader:\n",
    "    preds = net(X)\n",
    "    pred_labels = torch.argmax(preds, axis=1)\n",
    "    test_accuracy = 100 * torch.mean(\n",
    "        (pred_labels == torch.argmax(y, axis=1)).float()).item()\n",
    "    print(f\"Test accuracy: {test_accuracy}\")"
   ]
  }
 ],
 "metadata": {
  "kernelspec": {
   "display_name": "Python 3",
   "language": "python",
   "name": "python3"
  },
  "language_info": {
   "codemirror_mode": {
    "name": "ipython",
    "version": 3
   },
   "file_extension": ".py",
   "mimetype": "text/x-python",
   "name": "python",
   "nbconvert_exporter": "python",
   "pygments_lexer": "ipython3",
   "version": "3.12.4"
  }
 },
 "nbformat": 4,
 "nbformat_minor": 2
}
